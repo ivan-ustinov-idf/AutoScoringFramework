{
 "cells": [
  {
   "cell_type": "code",
   "execution_count": 1,
   "metadata": {},
   "outputs": [],
   "source": [
    "import warnings\n",
    "warnings.filterwarnings('ignore')\n",
    "import pandas as pd\n",
    "import numpy as np\n",
    "import matplotlib.pyplot as plt\n",
    "import seaborn as sns\n",
    "from pandas import ExcelWriter\n",
    "%matplotlib inline\n",
    "import math\n",
    "from datetime import datetime\n",
    "import time"
   ]
  },
  {
   "cell_type": "code",
   "execution_count": 2,
   "metadata": {},
   "outputs": [],
   "source": [
    "# import IDF\n",
    "from AS import *\n",
    "from feature_selection import *\n",
    "from Binning import transform_df_to_woe, construction_binning\n",
    "from AS_2 import *"
   ]
  },
  {
   "cell_type": "code",
   "execution_count": 40,
   "metadata": {},
   "outputs": [],
   "source": [
    "# Перед названием пути к файлу надо поставить ../ чтобы подняться на папку выше.\n",
    "df = pd.read_excel('../data_sql/ExcelFile_2021-12-20T17_30_46.xlsx')\n",
    "\n",
    "df['date_requested'] = pd.to_datetime(df['date_requested'])\n",
    "df_req = df[['credit_id', 'date_requested']]\n",
    "y = df['target']\n",
    "df['y'] = df['target']"
   ]
  },
  {
   "cell_type": "code",
   "execution_count": 41,
   "metadata": {},
   "outputs": [],
   "source": [
    "# Filling missing values (np.nan, '_MISSING_')\n",
    "cat_vars = df.select_dtypes(include=[object]).columns\n",
    "df = filling(df)\n",
    "\n",
    "min_num = 50\n",
    "df, else_df = replace_not_frequent_2(df, cat_vars, num_min = min_num)\n",
    "\n",
    "# Drop columns with only 1 value\n",
    "df = drop_single_value_column(df)"
   ]
  },
  {
   "cell_type": "code",
   "execution_count": 42,
   "metadata": {},
   "outputs": [],
   "source": [
    "df_out = df[df['date_requested'] >= '2021-05-01']\n",
    "df = df[df['date_requested'] < '2021-05-01']"
   ]
  },
  {
   "cell_type": "code",
   "execution_count": 43,
   "metadata": {},
   "outputs": [],
   "source": [
    "df_train, df_test, y_train, y_test = train_test_split(df, df.y, test_size=0.2, stratify=df.y, random_state=123)\n",
    "y_out = df_out.y"
   ]
  },
  {
   "cell_type": "code",
   "execution_count": 44,
   "metadata": {},
   "outputs": [],
   "source": [
    "iv_df = pd.read_excel('../results/iv_df_for_correction.xlsx', index_col=0).reset_index(drop=True)"
   ]
  },
  {
   "cell_type": "code",
   "execution_count": 17,
   "metadata": {},
   "outputs": [
    {
     "data": {
      "text/html": [
       "<div>\n",
       "<style scoped>\n",
       "    .dataframe tbody tr th:only-of-type {\n",
       "        vertical-align: middle;\n",
       "    }\n",
       "\n",
       "    .dataframe tbody tr th {\n",
       "        vertical-align: top;\n",
       "    }\n",
       "\n",
       "    .dataframe thead th {\n",
       "        text-align: right;\n",
       "    }\n",
       "</style>\n",
       "<table border=\"1\" class=\"dataframe\">\n",
       "  <thead>\n",
       "    <tr style=\"text-align: right;\">\n",
       "      <th></th>\n",
       "      <th>VAR_NAME</th>\n",
       "      <th>MIN_VALUE</th>\n",
       "      <th>MAX_VALUE</th>\n",
       "      <th>COUNT</th>\n",
       "      <th>DR</th>\n",
       "      <th>EVENT</th>\n",
       "      <th>EVENT_RATE</th>\n",
       "      <th>NONEVENT</th>\n",
       "      <th>NON_EVENT_RATE</th>\n",
       "      <th>WOE</th>\n",
       "      <th>IV</th>\n",
       "    </tr>\n",
       "  </thead>\n",
       "  <tbody>\n",
       "    <tr>\n",
       "      <th>13</th>\n",
       "      <td>DTI_2</td>\n",
       "      <td>-0.044293</td>\n",
       "      <td>0.265415</td>\n",
       "      <td>580</td>\n",
       "      <td>0.125862</td>\n",
       "      <td>73</td>\n",
       "      <td>0.120861</td>\n",
       "      <td>507</td>\n",
       "      <td>0.077122</td>\n",
       "      <td>-0.449252</td>\n",
       "      <td>0.105996</td>\n",
       "    </tr>\n",
       "    <tr>\n",
       "      <th>14</th>\n",
       "      <td>DTI_2</td>\n",
       "      <td>0.265415</td>\n",
       "      <td>1.182705</td>\n",
       "      <td>4644</td>\n",
       "      <td>0.094100</td>\n",
       "      <td>437</td>\n",
       "      <td>0.723510</td>\n",
       "      <td>4207</td>\n",
       "      <td>0.639945</td>\n",
       "      <td>-0.122732</td>\n",
       "      <td>0.105996</td>\n",
       "    </tr>\n",
       "    <tr>\n",
       "      <th>15</th>\n",
       "      <td>DTI_2</td>\n",
       "      <td>1.182705</td>\n",
       "      <td>20.519541</td>\n",
       "      <td>1954</td>\n",
       "      <td>0.048106</td>\n",
       "      <td>94</td>\n",
       "      <td>0.155629</td>\n",
       "      <td>1860</td>\n",
       "      <td>0.282933</td>\n",
       "      <td>0.597733</td>\n",
       "      <td>0.105996</td>\n",
       "    </tr>\n",
       "  </tbody>\n",
       "</table>\n",
       "</div>"
      ],
      "text/plain": [
       "   VAR_NAME MIN_VALUE  MAX_VALUE  COUNT        DR  EVENT  EVENT_RATE  \\\n",
       "13    DTI_2 -0.044293   0.265415    580  0.125862     73    0.120861   \n",
       "14    DTI_2  0.265415   1.182705   4644  0.094100    437    0.723510   \n",
       "15    DTI_2  1.182705  20.519541   1954  0.048106     94    0.155629   \n",
       "\n",
       "    NONEVENT  NON_EVENT_RATE       WOE        IV  \n",
       "13       507        0.077122 -0.449252  0.105996  \n",
       "14      4207        0.639945 -0.122732  0.105996  \n",
       "15      1860        0.282933  0.597733  0.105996  "
      ]
     },
     "execution_count": 17,
     "metadata": {},
     "output_type": "execute_result"
    }
   ],
   "source": [
    "iv_df[iv_df['VAR_NAME'] == '']"
   ]
  },
  {
   "cell_type": "code",
   "execution_count": 45,
   "metadata": {},
   "outputs": [],
   "source": [
    "def RepresentsFloat(s):\n",
    "    try: \n",
    "        float(s)\n",
    "        return True\n",
    "    except ValueError:\n",
    "        return False"
   ]
  },
  {
   "cell_type": "code",
   "execution_count": 46,
   "metadata": {},
   "outputs": [],
   "source": [
    "'''\n",
    "ВАЖНО! NaN значения заоплняются так же, как это указано в изначальной\n",
    "    excel таблице, так что их стоит менять там.\n",
    "'''\n",
    "iv_df_old = iv_df.copy()"
   ]
  },
  {
   "cell_type": "code",
   "execution_count": 47,
   "metadata": {},
   "outputs": [],
   "source": [
    "# Пересчитываем WOE и IV для новых, исправленных ручным образом, бинов.\n",
    "for col in iv_df['VAR_NAME'].unique():\n",
    "# for col in ['SCORE_4_5', 'industry']:\n",
    "    try:\n",
    "        # Заменить df на требуемый DataFrame (df_train или другой)\n",
    "        df1 = df_train[[col, 'target']].copy()\n",
    "        iv_col = iv_df[iv_df['VAR_NAME'] == col]\n",
    "    except:\n",
    "        continue\n",
    "\n",
    "    if RepresentsFloat(iv_col.iloc[0]['MIN_VALUE']):\n",
    "        iv_df.loc[iv_df['VAR_NAME'] == col, 'MIN_VALUE'] = iv_df.loc[iv_df['VAR_NAME'] == col, 'MIN_VALUE'].astype(float)\n",
    "        iv_df.loc[iv_df['VAR_NAME'] == col, 'MAX_VALUE'] = iv_df.loc[iv_df['VAR_NAME'] == col, 'MAX_VALUE'].astype(float)\n",
    "        iv_col = iv_df[iv_df['VAR_NAME'] == col]\n",
    "\n",
    "    for i, row in iv_col.iterrows():\n",
    "        if pd.isna(row['MIN_VALUE']):\n",
    "            val_count = df1[(df1[col].isna())]['target']\n",
    "        elif type(row['MIN_VALUE']) in [int, float]:\n",
    "        # elif RepresentsFloat(row['MIN_VALUE']):\n",
    "            min_val, max_val = float(row['MIN_VALUE']), float(row['MAX_VALUE'])\n",
    "            # TODO: поменять, чтобы был правильный учёт границ.\n",
    "            val_count = df1[(df1[col] >= min_val) & (df1[col] <= max_val - 1e-8)]['target']\n",
    "        else:\n",
    "            categories = row['MIN_VALUE'].split(' | ')\n",
    "            val_count = df1[df1[col].isin(categories)]['target']\n",
    "        \n",
    "        iv_df.loc[i, 'COUNT'] = val_count.count()\n",
    "        iv_df.loc[i, 'EVENT'] = val_count.sum()\n",
    "\n",
    "        iv_df.loc[i, 'NONEVENT'] = val_count.count() - val_count.sum()\n",
    "\n",
    "    d3 = iv_df.loc[iv_df['VAR_NAME'] == col]\n",
    "    iv_df.loc[iv_df['VAR_NAME'] == col, \"EVENT_RATE\"] = d3.EVENT / d3.EVENT.sum()\n",
    "    iv_df.loc[iv_df['VAR_NAME'] == col, \"NON_EVENT_RATE\"] = d3.NONEVENT / d3.NONEVENT.sum()\n",
    "\n",
    "    d3 = iv_df.loc[iv_df['VAR_NAME'] == col]\n",
    "    iv_df.loc[iv_df['VAR_NAME'] == col, \"WOE\"] = np.log(d3.NON_EVENT_RATE/d3.EVENT_RATE)\n",
    "\n",
    "    # Сохраняем тот резульатт для NaN, который предсатвлен в изначальном excel файле.\n",
    "    iv_df.loc[(iv_df['VAR_NAME'] == col) & (iv_df['MIN_VALUE'].isna())] = iv_df_old[(iv_df['VAR_NAME'] == col) & (iv_df['MIN_VALUE'].isna())]\n",
    "\n",
    "    iv_df.loc[iv_df['VAR_NAME'] == col, \"IV\"] = (d3.NON_EVENT_RATE-d3.EVENT_RATE)*np.log(d3.NON_EVENT_RATE/d3.EVENT_RATE)\n",
    "\n",
    "    iv_df.loc[iv_df['VAR_NAME'] == col] = iv_df.loc[iv_df['VAR_NAME'] == col].replace([np.inf, -np.inf], 0)\n",
    "    iv_df.loc[iv_df['VAR_NAME'] == col, 'IV'] = iv_df.loc[iv_df['VAR_NAME'] == col].IV.sum()\n",
    "\n",
    "    if iv_df.loc[iv_df['VAR_NAME'] == col]['COUNT'].sum() != df1.shape[0]:\n",
    "        print(f'ERROR columns \"{col}\" has less objects in bins than should')"
   ]
  },
  {
   "cell_type": "code",
   "execution_count": null,
   "metadata": {},
   "outputs": [],
   "source": [
    "iv_df[iv_df['VAR_NAME'] == '']"
   ]
  },
  {
   "cell_type": "code",
   "execution_count": 49,
   "metadata": {},
   "outputs": [],
   "source": [
    "iv_df.to_excel('../results/iv_df_after_correction.xlsx')"
   ]
  },
  {
   "cell_type": "code",
   "execution_count": null,
   "metadata": {},
   "outputs": [],
   "source": []
  }
 ],
 "metadata": {
  "interpreter": {
   "hash": "9d3bae0a0f66551680ef8a166f6b92cc2774d5d7901f027deb7bb883ed06d5ae"
  },
  "kernelspec": {
   "display_name": "Python 3.7.4 64-bit ('base': conda)",
   "name": "python3"
  },
  "language_info": {
   "codemirror_mode": {
    "name": "ipython",
    "version": 3
   },
   "file_extension": ".py",
   "mimetype": "text/x-python",
   "name": "python",
   "nbconvert_exporter": "python",
   "pygments_lexer": "ipython3",
   "version": "3.7.4"
  },
  "orig_nbformat": 4
 },
 "nbformat": 4,
 "nbformat_minor": 2
}
