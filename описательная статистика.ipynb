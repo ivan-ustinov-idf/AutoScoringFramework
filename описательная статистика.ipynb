{
 "cells": [
  {
   "cell_type": "code",
   "execution_count": null,
   "id": "c416afa0",
   "metadata": {},
   "outputs": [],
   "source": [
    "#датасет\n",
    "import pandas as pd\n",
    "df=pd.read_csv('dataset.csv')  "
   ]
  },
  {
   "cell_type": "code",
   "execution_count": null,
   "id": "7aa37d15",
   "metadata": {},
   "outputs": [],
   "source": [
    "import pandas_profiling\n",
    "from pandas_profiling import ProfileReport\n",
    "profile = ProfileReport(df, #config_file=\"config_minimal.yml\"\n",
    "       #samples=None,\n",
    "    #correlations=None,\n",
    "    #missing_diagrams=None,\n",
    "    #duplicates=None,\n",
    "    interactions=None                     \n",
    "                       \n",
    "                       )\n",
    "\n",
    "#profile = ProfileReport(df, title=\"Pandas Profiling Report\")\n",
    "\n",
    "# запускаем показ профиля\n",
    "profile"
   ]
  },
  {
   "cell_type": "code",
   "execution_count": null,
   "id": "07e77dc9",
   "metadata": {},
   "outputs": [],
   "source": [
    "#сохранение отчета в html-файл\n",
    "profile.to_file(\"report.html\")"
   ]
  },
  {
   "cell_type": "code",
   "execution_count": null,
   "id": "13f63fe8",
   "metadata": {},
   "outputs": [],
   "source": [
    "#документация и полезные ссылки для pandas_profiling\n",
    "#https://pandas-profiling.github.io/pandas-profiling/docs/master/rtd/pages/advanced_usage.html\n",
    "#https://habr.com/ru/company/ruvds/blog/451478/"
   ]
  },
  {
   "cell_type": "code",
   "execution_count": null,
   "id": "89463546",
   "metadata": {},
   "outputs": [],
   "source": [
    "#выбросы\n",
    "# поиск значений, более чем в 3 раза превышающих стандартное отклонение\n",
    "import numpy as np\n",
    "import matplotlib.pyplot as plt\n",
    "anomalies = []\n",
    "\n",
    "#поле датасета для анализа\n",
    "data = df.field\n",
    "\n",
    "\n",
    "def find_anomalies(random_data):\n",
    "\n",
    "    random_data_std = np.std(random_data)\n",
    "    random_data_mean = np.mean(random_data)\n",
    "    anomaly_cut_off = random_data_std * 3\n",
    "    \n",
    "    lower_limit  = random_data_mean - anomaly_cut_off \n",
    "    upper_limit = random_data_mean + anomaly_cut_off\n",
    "    print(lower_limit)\n",
    "\n",
    "    for outlier in random_data:\n",
    "        if outlier > upper_limit or outlier < lower_limit:\n",
    "            anomalies.append(outlier)\n",
    "    return anomalies\n",
    "\n",
    "find_anomalies(data)"
   ]
  },
  {
   "cell_type": "code",
   "execution_count": null,
   "id": "efbd1faf",
   "metadata": {},
   "outputs": [],
   "source": [
    "#боксплот\n",
    "import seaborn as sns\n",
    "import matplotlib.pyplot as plt\n",
    "sns.set(rc={'figure.figsize':(11.7,8.27)})\n",
    "sns.boxplot(data=df.field)"
   ]
  },
  {
   "cell_type": "code",
   "execution_count": 13,
   "id": "0ef70de4",
   "metadata": {},
   "outputs": [
    {
     "data": {
      "application/vnd.jupyter.widget-view+json": {
       "model_id": "ce7516384e9c4a9a80da622a6ab2a00d",
       "version_major": 2,
       "version_minor": 0
      },
      "text/plain": [
       "Image(value=b'\\x89PNG\\r\\n\\x1a\\n\\x00\\x00\\x00\\rIHDR\\x00\\x00\\x04\\xe6\\x00\\x00\\x03~\\x08\\x02\\x00\\x00\\x00>\\x0c\\x93\\xd…"
      ]
     },
     "metadata": {},
     "output_type": "display_data"
    }
   ],
   "source": [
    "#как читать график боксплот\n",
    "#Межквартильный диапазон (IQR) используется для определения выбросов. \n",
    "#Это разница между третьим квартилем и первым квартилем (IQR = Q3 -Q1). \n",
    "#Выбросы в этом случае определяются как наблюдения, которые ниже (Q1 - 1,5x IQR) \n",
    "#или выше (Q3 + 1,5x IQR) \n",
    "\n",
    "import requests\n",
    "from ipywidgets import Image\n",
    "\n",
    "Image(value=requests.get('https://www.machinelearningmastery.ru/img/0-595362-715408.png').content)"
   ]
  },
  {
   "cell_type": "code",
   "execution_count": null,
   "id": "122e4c0b",
   "metadata": {},
   "outputs": [],
   "source": [
    "#факторы, содержащие одно значение более чем для 95% наблюдений\n",
    "num_rows = len(df.index)\n",
    "low_information_cols = [] #\n",
    "\n",
    "for col in df.columns:\n",
    "    cnts = df[col].value_counts(dropna=False)\n",
    "    top_pct = (cnts/num_rows).iloc[0]\n",
    "    \n",
    "    if top_pct > 0.95:\n",
    "        low_information_cols.append(col)\n",
    "        print('{0}: {1:.5f}%'.format(col, top_pct*100))\n",
    "        print(cnts)\n",
    "        print()"
   ]
  },
  {
   "cell_type": "code",
   "execution_count": null,
   "id": "2d99d581",
   "metadata": {},
   "outputs": [],
   "source": [
    "#дубликаты\n",
    "#отбрасываем неуникальные строки\n",
    "df_dedupped = df.drop('credit_id', axis=1).drop_duplicates()\n",
    "\n",
    "#сравниваем формы старого и нового наборов\n",
    "print(df.shape)\n",
    "print(df_dedupped.shape)"
   ]
  },
  {
   "cell_type": "code",
   "execution_count": null,
   "id": "0f9c7642",
   "metadata": {},
   "outputs": [],
   "source": [
    "#Описательная статистика\n",
    "df.describe()"
   ]
  },
  {
   "cell_type": "code",
   "execution_count": null,
   "id": "e88e5476",
   "metadata": {},
   "outputs": [],
   "source": [
    "#корреляции\n",
    "import os\n",
    "import matplotlib.pyplot as plt\n",
    "corr_matrix = df.corr()\n",
    "plt.figure(figsize=(14, 14))\n",
    "sns.heatmap(corr_matrix, annot=True, linewidths=0)"
   ]
  },
  {
   "cell_type": "code",
   "execution_count": null,
   "id": "ef3c96fc",
   "metadata": {},
   "outputs": [],
   "source": []
  }
 ],
 "metadata": {
  "kernelspec": {
   "display_name": "Python 3",
   "language": "python",
   "name": "python3"
  },
  "language_info": {
   "codemirror_mode": {
    "name": "ipython",
    "version": 3
   },
   "file_extension": ".py",
   "mimetype": "text/x-python",
   "name": "python",
   "nbconvert_exporter": "python",
   "pygments_lexer": "ipython3",
   "version": "3.8.8"
  }
 },
 "nbformat": 4,
 "nbformat_minor": 5
}
